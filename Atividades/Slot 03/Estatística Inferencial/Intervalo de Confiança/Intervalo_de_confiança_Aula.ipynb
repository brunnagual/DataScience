{
  "nbformat": 4,
  "nbformat_minor": 0,
  "metadata": {
    "language_info": {
      "name": "python"
    },
    "colab": {
      "provenance": []
    },
    "kernelspec": {
      "name": "python3",
      "display_name": "Python 3"
    }
  },
  "cells": [
    {
      "cell_type": "code",
      "metadata": {
        "id": "Q_-BG5B26KWf"
      },
      "source": [
        "import numpy as np\n",
        "import pandas as pd\n",
        "\n",
        "import matplotlib.pyplot as plt\n",
        "import seaborn as sns\n",
        "\n",
        "from scipy.stats import norm\n",
        "import scipy.stats as st\n",
        "\n",
        "import os\n",
        "import random"
      ],
      "execution_count": null,
      "outputs": []
    },
    {
      "cell_type": "markdown",
      "metadata": {
        "id": "KPHe9eNS6KWy"
      },
      "source": [
        "### Intervalo de Confiança"
      ]
    },
    {
      "cell_type": "markdown",
      "metadata": {
        "id": "n7jDsk136KWy"
      },
      "source": [
        "Peso de uma população, vamos criar um intervalo de confiança com nível de confiança 95% para o peso populacional médio.\n",
        "Usar a distribuição t (n<30)"
      ]
    },
    {
      "cell_type": "code",
      "metadata": {
        "id": "GX6DYAHv6KWy"
      },
      "source": [
        "sample = [12, 12, 13, 13, 15, 16, 17, 22, 23, 25, 26, 27, 28, 28, 29]\n",
        "\n",
        "teste_peso_95 = st.t.interval(alpha=0.95, df=len(sample)-1, loc=np.mean(sample), scale=st.sem(sample)) "
      ],
      "execution_count": null,
      "outputs": []
    },
    {
      "cell_type": "code",
      "metadata": {
        "id": "INSvzhpj6KWz",
        "outputId": "c64aa1fb-3119-4f1e-9631-de1ff28c56c1"
      },
      "source": [
        "teste_peso_95"
      ],
      "execution_count": null,
      "outputs": [
        {
          "output_type": "execute_result",
          "data": {
            "text/plain": [
              "(16.75776979778498, 24.042230202215016)"
            ]
          },
          "metadata": {
            "tags": []
          },
          "execution_count": 118
        }
      ]
    },
    {
      "cell_type": "markdown",
      "metadata": {
        "id": "SORmnHji6KWz"
      },
      "source": [
        "Usando nível de confiança de 99%"
      ]
    },
    {
      "cell_type": "code",
      "metadata": {
        "id": "MxaRVYVo6KWz"
      },
      "source": [
        "teste_peso_99 = st.t.interval(alpha=0.99, df=len(sample)-1, loc=np.mean(sample), scale=st.sem(sample)) "
      ],
      "execution_count": null,
      "outputs": []
    },
    {
      "cell_type": "code",
      "metadata": {
        "id": "QRI_WxRP6KW0",
        "outputId": "ef3082c5-6266-447b-dc6d-b28818665d39"
      },
      "source": [
        "teste_peso_99"
      ],
      "execution_count": null,
      "outputs": [
        {
          "output_type": "execute_result",
          "data": {
            "text/plain": [
              "(15.3447902793728, 25.455209720627195)"
            ]
          },
          "metadata": {
            "tags": []
          },
          "execution_count": 120
        }
      ]
    },
    {
      "cell_type": "markdown",
      "metadata": {
        "id": "oZOd3MwY6KW0"
      },
      "source": [
        "Usando teste z para distribuição normal ou quando temos n>=30."
      ]
    },
    {
      "cell_type": "code",
      "metadata": {
        "id": "TQnK9BcR6KW1"
      },
      "source": [
        "np.random.seed(42)\n",
        "sample_data = np.random.randint(10, 30, 50)\n",
        "\n",
        "test_norm_95 = st.norm.interval(alpha=0.95, loc=np.mean(sample_data), scale=st.sem(sample_data))"
      ],
      "execution_count": null,
      "outputs": []
    },
    {
      "cell_type": "code",
      "metadata": {
        "id": "8h9IgQ4i6KW1",
        "outputId": "e733d0f8-3efa-4806-ebe5-30e51fdee6cf"
      },
      "source": [
        "test_norm_95"
      ],
      "execution_count": null,
      "outputs": [
        {
          "output_type": "execute_result",
          "data": {
            "text/plain": [
              "(18.25642372955045, 21.46357627044955)"
            ]
          },
          "metadata": {
            "tags": []
          },
          "execution_count": 126
        }
      ]
    }
  ]
}